{
 "cells": [
  {
   "cell_type": "code",
   "execution_count": 23,
   "metadata": {},
   "outputs": [],
   "source": [
    "import urllib\n",
    "import os.path\n",
    "from textgenrnn import textgenrnn\n",
    "from bs4 import BeautifulSoup\n",
    "import pickle\n",
    "import sys\n",
    "\n",
    "sys.setrecursionlimit(20000)"
   ]
  },
  {
   "cell_type": "code",
   "execution_count": 33,
   "metadata": {},
   "outputs": [],
   "source": [
    "pages_file = 'pages.pickle'\n",
    "\n",
    "def get_poem_pages():\n",
    "    if os.path.isfile(pages_file):\n",
    "        with open(pages_file, 'rb') as f: \n",
    "            return pickle.load(f)\n",
    "    pages = []\n",
    "    for i in range(1, 7):\n",
    "        index = BeautifulSoup(urllib.request.urlopen('https://www.poemhunter.com/shel-silverstein-2/poems/page-' + str(i)), 'html.parser')\n",
    "        urls = ['https://www.poemhunter.com' + td.contents[1].get('href') for td in index.find_all('td', attrs={'class': 'title'})]\n",
    "        for url in urls:\n",
    "            poem_soup = BeautifulSoup(urllib.request.urlopen(url), 'html.parser')\n",
    "            pages.append(poem_soup)\n",
    "    return pages"
   ]
  },
  {
   "cell_type": "code",
   "execution_count": 34,
   "metadata": {},
   "outputs": [],
   "source": [
    "pages = get_poem_pages()"
   ]
  },
  {
   "cell_type": "code",
   "execution_count": 32,
   "metadata": {},
   "outputs": [],
   "source": [
    "with open(pages_file, 'wb') as f:  \n",
    "    pickle.dump(pages, f)"
   ]
  },
  {
   "cell_type": "code",
   "execution_count": 35,
   "metadata": {},
   "outputs": [],
   "source": [
    "def parse_poems(pages):\n",
    "    poems = []\n",
    "    for page in pages:\n",
    "        poem_lines = page.find('div', attrs={'class': 'KonaBody'}).findChildren('p')[0].contents\n",
    "        poem_dirty = u'\\n'.join([str(line).strip() for line in poem_lines]).strip()\n",
    "        poem_clean = poem_dirty.replace('\\n<br/>\\n<br/>\\n', '\\n\\n').replace('\\n<br/>', '')\n",
    "        poems.append(poem_clean)\n",
    "    return poems"
   ]
  },
  {
   "cell_type": "code",
   "execution_count": 36,
   "metadata": {},
   "outputs": [],
   "source": [
    "poems = parse_poems(pages)"
   ]
  },
  {
   "cell_type": "code",
   "execution_count": 37,
   "metadata": {},
   "outputs": [
    {
     "name": "stdout",
     "output_type": "stream",
     "text": [
      "38638\n"
     ]
    }
   ],
   "source": [
    "print(len('\\n'.join(poems).split()))"
   ]
  },
  {
   "cell_type": "code",
   "execution_count": null,
   "metadata": {},
   "outputs": [
    {
     "name": "stdout",
     "output_type": "stream",
     "text": [
      "Training on 196,170 character sequences.\n",
      "Epoch 1/2\n"
     ]
    }
   ],
   "source": [
    "textgen = textgenrnn()\n",
    "textgen.train_on_texts(poems, num_epochs=2,  gen_epochs=2)"
   ]
  },
  {
   "cell_type": "code",
   "execution_count": null,
   "metadata": {},
   "outputs": [],
   "source": []
  }
 ],
 "metadata": {
  "kernelspec": {
   "display_name": "Python 3",
   "language": "python",
   "name": "python3"
  },
  "language_info": {
   "codemirror_mode": {
    "name": "ipython",
    "version": 3
   },
   "file_extension": ".py",
   "mimetype": "text/x-python",
   "name": "python",
   "nbconvert_exporter": "python",
   "pygments_lexer": "ipython3",
   "version": "3.6.7"
  }
 },
 "nbformat": 4,
 "nbformat_minor": 2
}
