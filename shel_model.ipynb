{
 "cells": [
  {
   "cell_type": "code",
   "execution_count": 10,
   "metadata": {},
   "outputs": [
    {
     "ename": "ImportError",
     "evalue": "No module named textgenrnn",
     "output_type": "error",
     "traceback": [
      "\u001b[0;31m---------------------------------------------------------------------------\u001b[0m",
      "\u001b[0;31mImportError\u001b[0m                               Traceback (most recent call last)",
      "\u001b[0;32m<ipython-input-10-2ab4b77af8d5>\u001b[0m in \u001b[0;36m<module>\u001b[0;34m()\u001b[0m\n\u001b[1;32m      1\u001b[0m \u001b[0;32mimport\u001b[0m \u001b[0murllib2\u001b[0m\u001b[0;34m\u001b[0m\u001b[0m\n\u001b[1;32m      2\u001b[0m \u001b[0;32mimport\u001b[0m \u001b[0mos\u001b[0m\u001b[0;34m\u001b[0m\u001b[0m\n\u001b[0;32m----> 3\u001b[0;31m \u001b[0;32mfrom\u001b[0m \u001b[0mtextgenrnn\u001b[0m \u001b[0;32mimport\u001b[0m \u001b[0mtextgenrnn\u001b[0m\u001b[0;34m\u001b[0m\u001b[0m\n\u001b[0m\u001b[1;32m      4\u001b[0m \u001b[0;32mfrom\u001b[0m \u001b[0mbs4\u001b[0m \u001b[0;32mimport\u001b[0m \u001b[0mBeautifulSoup\u001b[0m\u001b[0;34m\u001b[0m\u001b[0m\n",
      "\u001b[0;31mImportError\u001b[0m: No module named textgenrnn"
     ]
    }
   ],
   "source": [
    "import urllib2\n",
    "import os\n",
    "from textgenrnn import textgenrnn\n",
    "from bs4 import BeautifulSoup"
   ]
  },
  {
   "cell_type": "code",
   "execution_count": 2,
   "metadata": {},
   "outputs": [],
   "source": [
    "def get_poem_pages():\n",
    "    file_name = 'poems.txt'\n",
    "    pages = []\n",
    "    for i in range(1, 7):\n",
    "        index = BeautifulSoup(urllib2.urlopen('https://www.poemhunter.com/shel-silverstein-2/poems/page-' + str(i)), 'html.parser')\n",
    "        urls = ['https://www.poemhunter.com' + td.contents[1].get('href') for td in index.find_all('td', attrs={'class': 'title'})]\n",
    "        for url in urls:\n",
    "            poem_soup = BeautifulSoup(urllib2.urlopen(url), 'html.parser')\n",
    "            pages.append(poem_soup)\n",
    "    return pages"
   ]
  },
  {
   "cell_type": "code",
   "execution_count": 3,
   "metadata": {},
   "outputs": [],
   "source": [
    "pages = get_poem_pages()"
   ]
  },
  {
   "cell_type": "code",
   "execution_count": 4,
   "metadata": {},
   "outputs": [],
   "source": [
    "def parse_poems(pages):\n",
    "    poems = []\n",
    "    for page in pages:\n",
    "        poem_lines = page.find('div', attrs={'class': 'KonaBody'}).findChildren('p')[0].contents\n",
    "        poem_dirty = u'\\n'.join([unicode(line).strip() for line in poem_lines]).strip()\n",
    "        poem_clean = poem_dirty.replace('\\n<br/>\\n<br/>\\n', '\\n\\n').replace('\\n<br/>', '')\n",
    "        poems.append(poem_clean)\n",
    "    return poems"
   ]
  },
  {
   "cell_type": "code",
   "execution_count": 5,
   "metadata": {},
   "outputs": [],
   "source": [
    "poems = parse_poems(pages)"
   ]
  },
  {
   "cell_type": "code",
   "execution_count": 8,
   "metadata": {},
   "outputs": [
    {
     "name": "stdout",
     "output_type": "stream",
     "text": [
      "38638\n"
     ]
    }
   ],
   "source": [
    "print len('\\n'.join(poems).split())"
   ]
  }
 ],
 "metadata": {
  "kernelspec": {
   "display_name": "Python 2",
   "language": "python",
   "name": "python2"
  },
  "language_info": {
   "codemirror_mode": {
    "name": "ipython",
    "version": 2
   },
   "file_extension": ".py",
   "mimetype": "text/x-python",
   "name": "python",
   "nbconvert_exporter": "python",
   "pygments_lexer": "ipython2",
   "version": "2.7.13"
  }
 },
 "nbformat": 4,
 "nbformat_minor": 2
}
