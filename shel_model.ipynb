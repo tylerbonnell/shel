{
 "cells": [
  {
   "cell_type": "code",
   "execution_count": 2,
   "metadata": {},
   "outputs": [
    {
     "name": "stderr",
     "output_type": "stream",
     "text": [
      "Using TensorFlow backend.\n"
     ]
    }
   ],
   "source": [
    "import urllib\n",
    "import os.path\n",
    "from textgenrnn import textgenrnn\n",
    "from bs4 import BeautifulSoup\n",
    "import pickle\n",
    "import sys\n",
    "\n",
    "sys.setrecursionlimit(20000)  # for pickling scraper pages"
   ]
  },
  {
   "cell_type": "code",
   "execution_count": 3,
   "metadata": {},
   "outputs": [],
   "source": [
    "pages_file = 'pages.pickle'\n",
    "\n",
    "def get_poem_pages():\n",
    "    if os.path.isfile(pages_file):\n",
    "        with open(pages_file, 'rb') as f: \n",
    "            return pickle.load(f)\n",
    "    pages = []\n",
    "    for i in range(1, 7):\n",
    "        index = BeautifulSoup(urllib.request.urlopen('https://www.poemhunter.com/shel-silverstein-2/poems/page-' + str(i)), 'html.parser')\n",
    "        urls = ['https://www.poemhunter.com' + td.contents[1].get('href') for td in index.find_all('td', attrs={'class': 'title'})]\n",
    "        for url in urls:\n",
    "            poem_soup = BeautifulSoup(urllib.request.urlopen(url), 'html.parser')\n",
    "            pages.append(poem_soup)\n",
    "    return pages"
   ]
  },
  {
   "cell_type": "code",
   "execution_count": 4,
   "metadata": {},
   "outputs": [],
   "source": [
    "pages = get_poem_pages()"
   ]
  },
  {
   "cell_type": "code",
   "execution_count": 5,
   "metadata": {},
   "outputs": [],
   "source": [
    "with open(pages_file, 'wb') as f:  \n",
    "    pickle.dump(pages, f)"
   ]
  },
  {
   "cell_type": "code",
   "execution_count": 25,
   "metadata": {},
   "outputs": [],
   "source": [
    "def parse_poems(pages):\n",
    "    poems = []\n",
    "    for page in pages:\n",
    "        poem_lines = page.find('div', attrs={'class': 'KonaBody'}).findChildren('p')[0].contents\n",
    "        poem_dirty = u''.join([str(line).strip() for line in poem_lines]).strip()\n",
    "        poem_clean = poem_dirty.replace('<br/><br/>', ' || ').replace('<br/>', ' / ')\n",
    "        poems.append(poem_clean)\n",
    "    return poems"
   ]
  },
  {
   "cell_type": "code",
   "execution_count": 30,
   "metadata": {},
   "outputs": [],
   "source": [
    "poems = parse_poems(pages)"
   ]
  },
  {
   "cell_type": "code",
   "execution_count": 27,
   "metadata": {},
   "outputs": [
    {
     "name": "stdout",
     "output_type": "stream",
     "text": [
      "Training on 206,105 character sequences.\n",
      "Epoch 1/2\n",
      "1610/1610 [==============================] - 412s 256ms/step - loss: 1.5843\n",
      "Epoch 2/2\n",
      "1610/1610 [==============================] - 428s 266ms/step - loss: 1.3817\n",
      "####################\n",
      "Temperature: 0.2\n",
      "####################\n",
      "I may hear the started the started the country / And I think I'll be a lot of the stone / And I'm sticked to the tear the store / And I have to the time I got an ape of the season / And I'm gonna be a lot of the street / And the started lookin' and he says he's got a little time / And I'm gonna lo\n",
      "\n",
      "I would start to say I'll be might look at the stop / And I say I was a little bit more the way / And I think I think I'm gonna find / I got an and the bottom and the country / And the country was a brand to me / And I'll be a poor place on the way to the store / And I may be my house and I can't \n",
      "\n",
      "Well I mean the little time to the world / And I think I'm still and I think I'm a lot of the started / And I may be a lot of the song and I don't see it / I got talkin' on the started the started by a country / And I may have to see it and say I'll be might look at the store / And I'm too long ti\n",
      "\n",
      "####################\n",
      "Temperature: 0.5\n",
      "####################\n",
      "And I got a thing and the back started he would laugh a truck / And I would start a childrend / And I'm still to the song / And I said it's a picket / And the place is a parents / And they want to the way to the come to the little by the beach / I don't know I'll be give my house / Ohhh it does an\n",
      "\n",
      "Oh, brown the country to play / They made came to look in the brother / I really looked up at the time / I'll say I'm not the mountasin' someday stair / I don't know I'm too long place / And it baby a woman / And the longer stayed the sea and all day / And I may have the signed and when I love him\n",
      "\n",
      "I'll be much to the pales / Said General Gore to Get my parents / And a couple what I'm gonna green at the start it and mean / Too long in the road / When you go the stormed and contest in the sun / And she'll get the little time and a backy and the next / And he was been a fright and worked to si\n",
      "\n",
      "####################\n",
      "Temperature: 1.0\n",
      "####################\n",
      "But you'll have a mamo of a warmon the sand too-log / Has snow around me of which / Yeah and I never tellin' it rand / From weathernick mught, / Gazing last soom / And they amazing away my body / I bought my way of the woodblow. / 'Better couldn’t hear the same to the polace and reached hurfer muc\n",
      "\n",
      "I've been loved it's a wedding and she clased away demon / Oh what a presidents and long seare to live the Tickle / Kick his indusions on his pea, I pulled my then Jesistic || A dress and glimb, seemy,' at detice with rmare meanic's / Go all okay! / We'd mean for all them all. I’ll never fell kind\n",
      "\n",
      "I call it with this load at his uplusing and the sues alcumousin' to Susis || 'Then the come can ride kid with woman, / “'the tears and shiller slapped really / Slie's boss my naster eyes and wents / Denrist I'm working and again. / But that I'm proubing six strong, / They come toy. / Blalk me. / \n",
      "\n"
     ]
    }
   ],
   "source": [
    "textgen = textgenrnn()\n",
    "textgen.train_on_texts(poems, num_epochs=2,  gen_epochs=2)"
   ]
  },
  {
   "cell_type": "code",
   "execution_count": 5,
   "metadata": {},
   "outputs": [
    {
     "name": "stdout",
     "output_type": "stream",
     "text": [
      "I said I'm so sloppy gonna have a woman / But they say the work is not a purch wait / And when I got still the baby and the parents / And the word seems the belongs of the starter suitin' / I mean the skills so when I say I'll flowed / But you stop the country of the proud / They've be placed the \n"
     ]
    }
   ],
   "source": [
    "loaded_rnn = textgenrnn('lambda/shel_model_weights.hdf5')\n",
    "poem = loaded_rnn.generate(n=1, temperature=0.5, return_as_list=True)[0]\n",
    "print(poem)"
   ]
  },
  {
   "cell_type": "code",
   "execution_count": null,
   "metadata": {},
   "outputs": [],
   "source": []
  }
 ],
 "metadata": {
  "kernelspec": {
   "display_name": "Python 3",
   "language": "python",
   "name": "python3"
  },
  "language_info": {
   "codemirror_mode": {
    "name": "ipython",
    "version": 3
   },
   "file_extension": ".py",
   "mimetype": "text/x-python",
   "name": "python",
   "nbconvert_exporter": "python",
   "pygments_lexer": "ipython3",
   "version": "3.6.7"
  }
 },
 "nbformat": 4,
 "nbformat_minor": 2
}
